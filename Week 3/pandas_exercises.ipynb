{
 "metadata": {
  "language_info": {
   "codemirror_mode": {
    "name": "ipython",
    "version": 3
   },
   "file_extension": ".py",
   "mimetype": "text/x-python",
   "name": "python",
   "nbconvert_exporter": "python",
   "pygments_lexer": "ipython3",
   "version": "3.7.4-final"
  },
  "orig_nbformat": 2,
  "kernelspec": {
   "name": "python3",
   "display_name": "Python 3"
  }
 },
 "nbformat": 4,
 "nbformat_minor": 2,
 "cells": [
  {
   "cell_type": "code",
   "execution_count": 1,
   "metadata": {},
   "outputs": [],
   "source": [
    "import pandas as pd\n",
    "data_path = './Automobile_data.csv'\n",
    "df = pd.read_csv(data_path)"
   ]
  },
  {
   "cell_type": "markdown",
   "metadata": {},
   "source": [
    "Exercise 1"
   ]
  },
  {
   "cell_type": "code",
   "execution_count": 2,
   "metadata": {},
   "outputs": [
    {
     "output_type": "execute_result",
     "data": {
      "text/plain": "   index      company   body-style  wheel-base  length engine-type  \\\n0      0  alfa-romero  convertible        88.6   168.8        dohc   \n1      1  alfa-romero  convertible        88.6   168.8        dohc   \n2      2  alfa-romero    hatchback        94.5   171.2        ohcv   \n3      3         audi        sedan        99.8   176.6         ohc   \n4      4         audi        sedan        99.4   176.6         ohc   \n\n  num-of-cylinders  horsepower  average-mileage    price  \n0             four         111               21  13495.0  \n1             four         111               21  16500.0  \n2              six         154               19  16500.0  \n3             four         102               24  13950.0  \n4             five         115               18  17450.0  ",
      "text/html": "<div>\n<style scoped>\n    .dataframe tbody tr th:only-of-type {\n        vertical-align: middle;\n    }\n\n    .dataframe tbody tr th {\n        vertical-align: top;\n    }\n\n    .dataframe thead th {\n        text-align: right;\n    }\n</style>\n<table border=\"1\" class=\"dataframe\">\n  <thead>\n    <tr style=\"text-align: right;\">\n      <th></th>\n      <th>index</th>\n      <th>company</th>\n      <th>body-style</th>\n      <th>wheel-base</th>\n      <th>length</th>\n      <th>engine-type</th>\n      <th>num-of-cylinders</th>\n      <th>horsepower</th>\n      <th>average-mileage</th>\n      <th>price</th>\n    </tr>\n  </thead>\n  <tbody>\n    <tr>\n      <th>0</th>\n      <td>0</td>\n      <td>alfa-romero</td>\n      <td>convertible</td>\n      <td>88.6</td>\n      <td>168.8</td>\n      <td>dohc</td>\n      <td>four</td>\n      <td>111</td>\n      <td>21</td>\n      <td>13495.0</td>\n    </tr>\n    <tr>\n      <th>1</th>\n      <td>1</td>\n      <td>alfa-romero</td>\n      <td>convertible</td>\n      <td>88.6</td>\n      <td>168.8</td>\n      <td>dohc</td>\n      <td>four</td>\n      <td>111</td>\n      <td>21</td>\n      <td>16500.0</td>\n    </tr>\n    <tr>\n      <th>2</th>\n      <td>2</td>\n      <td>alfa-romero</td>\n      <td>hatchback</td>\n      <td>94.5</td>\n      <td>171.2</td>\n      <td>ohcv</td>\n      <td>six</td>\n      <td>154</td>\n      <td>19</td>\n      <td>16500.0</td>\n    </tr>\n    <tr>\n      <th>3</th>\n      <td>3</td>\n      <td>audi</td>\n      <td>sedan</td>\n      <td>99.8</td>\n      <td>176.6</td>\n      <td>ohc</td>\n      <td>four</td>\n      <td>102</td>\n      <td>24</td>\n      <td>13950.0</td>\n    </tr>\n    <tr>\n      <th>4</th>\n      <td>4</td>\n      <td>audi</td>\n      <td>sedan</td>\n      <td>99.4</td>\n      <td>176.6</td>\n      <td>ohc</td>\n      <td>five</td>\n      <td>115</td>\n      <td>18</td>\n      <td>17450.0</td>\n    </tr>\n  </tbody>\n</table>\n</div>"
     },
     "metadata": {},
     "execution_count": 2
    }
   ],
   "source": [
    "df.head()"
   ]
  },
  {
   "cell_type": "code",
   "execution_count": 3,
   "metadata": {},
   "outputs": [
    {
     "output_type": "execute_result",
     "data": {
      "text/plain": "    index     company body-style  wheel-base  length engine-type  \\\n56     81  volkswagen      sedan        97.3   171.7         ohc   \n57     82  volkswagen      sedan        97.3   171.7         ohc   \n58     86  volkswagen      sedan        97.3   171.7         ohc   \n59     87       volvo      sedan       104.3   188.8         ohc   \n60     88       volvo      wagon       104.3   188.8         ohc   \n\n   num-of-cylinders  horsepower  average-mileage    price  \n56             four          85               27   7975.0  \n57             four          52               37   7995.0  \n58             four         100               26   9995.0  \n59             four         114               23  12940.0  \n60             four         114               23  13415.0  ",
      "text/html": "<div>\n<style scoped>\n    .dataframe tbody tr th:only-of-type {\n        vertical-align: middle;\n    }\n\n    .dataframe tbody tr th {\n        vertical-align: top;\n    }\n\n    .dataframe thead th {\n        text-align: right;\n    }\n</style>\n<table border=\"1\" class=\"dataframe\">\n  <thead>\n    <tr style=\"text-align: right;\">\n      <th></th>\n      <th>index</th>\n      <th>company</th>\n      <th>body-style</th>\n      <th>wheel-base</th>\n      <th>length</th>\n      <th>engine-type</th>\n      <th>num-of-cylinders</th>\n      <th>horsepower</th>\n      <th>average-mileage</th>\n      <th>price</th>\n    </tr>\n  </thead>\n  <tbody>\n    <tr>\n      <th>56</th>\n      <td>81</td>\n      <td>volkswagen</td>\n      <td>sedan</td>\n      <td>97.3</td>\n      <td>171.7</td>\n      <td>ohc</td>\n      <td>four</td>\n      <td>85</td>\n      <td>27</td>\n      <td>7975.0</td>\n    </tr>\n    <tr>\n      <th>57</th>\n      <td>82</td>\n      <td>volkswagen</td>\n      <td>sedan</td>\n      <td>97.3</td>\n      <td>171.7</td>\n      <td>ohc</td>\n      <td>four</td>\n      <td>52</td>\n      <td>37</td>\n      <td>7995.0</td>\n    </tr>\n    <tr>\n      <th>58</th>\n      <td>86</td>\n      <td>volkswagen</td>\n      <td>sedan</td>\n      <td>97.3</td>\n      <td>171.7</td>\n      <td>ohc</td>\n      <td>four</td>\n      <td>100</td>\n      <td>26</td>\n      <td>9995.0</td>\n    </tr>\n    <tr>\n      <th>59</th>\n      <td>87</td>\n      <td>volvo</td>\n      <td>sedan</td>\n      <td>104.3</td>\n      <td>188.8</td>\n      <td>ohc</td>\n      <td>four</td>\n      <td>114</td>\n      <td>23</td>\n      <td>12940.0</td>\n    </tr>\n    <tr>\n      <th>60</th>\n      <td>88</td>\n      <td>volvo</td>\n      <td>wagon</td>\n      <td>104.3</td>\n      <td>188.8</td>\n      <td>ohc</td>\n      <td>four</td>\n      <td>114</td>\n      <td>23</td>\n      <td>13415.0</td>\n    </tr>\n  </tbody>\n</table>\n</div>"
     },
     "metadata": {},
     "execution_count": 3
    }
   ],
   "source": [
    "df.tail()"
   ]
  },
  {
   "cell_type": "markdown",
   "metadata": {},
   "source": [
    "Exercise 2"
   ]
  },
  {
   "cell_type": "code",
   "execution_count": 4,
   "metadata": {},
   "outputs": [
    {
     "output_type": "execute_result",
     "data": {
      "text/plain": "'mercedes-benz'"
     },
     "metadata": {},
     "execution_count": 4
    }
   ],
   "source": [
    "df.iloc[ df.price.argmax() ].company # company name of the most expensive car"
   ]
  },
  {
   "cell_type": "markdown",
   "metadata": {},
   "source": [
    "Exercise 3"
   ]
  },
  {
   "cell_type": "code",
   "execution_count": 5,
   "metadata": {},
   "outputs": [
    {
     "output_type": "execute_result",
     "data": {
      "text/plain": "    index company body-style  wheel-base  length engine-type num-of-cylinders  \\\n48     66  toyota  hatchback        95.7   158.7         ohc             four   \n49     67  toyota  hatchback        95.7   158.7         ohc             four   \n50     68  toyota  hatchback        95.7   158.7         ohc             four   \n51     69  toyota      wagon        95.7   169.7         ohc             four   \n52     70  toyota      wagon        95.7   169.7         ohc             four   \n53     71  toyota      wagon        95.7   169.7         ohc             four   \n54     79  toyota      wagon       104.5   187.8        dohc              six   \n\n    horsepower  average-mileage    price  \n48          62               35   5348.0  \n49          62               31   6338.0  \n50          62               31   6488.0  \n51          62               31   6918.0  \n52          62               27   7898.0  \n53          62               27   8778.0  \n54         156               19  15750.0  ",
      "text/html": "<div>\n<style scoped>\n    .dataframe tbody tr th:only-of-type {\n        vertical-align: middle;\n    }\n\n    .dataframe tbody tr th {\n        vertical-align: top;\n    }\n\n    .dataframe thead th {\n        text-align: right;\n    }\n</style>\n<table border=\"1\" class=\"dataframe\">\n  <thead>\n    <tr style=\"text-align: right;\">\n      <th></th>\n      <th>index</th>\n      <th>company</th>\n      <th>body-style</th>\n      <th>wheel-base</th>\n      <th>length</th>\n      <th>engine-type</th>\n      <th>num-of-cylinders</th>\n      <th>horsepower</th>\n      <th>average-mileage</th>\n      <th>price</th>\n    </tr>\n  </thead>\n  <tbody>\n    <tr>\n      <th>48</th>\n      <td>66</td>\n      <td>toyota</td>\n      <td>hatchback</td>\n      <td>95.7</td>\n      <td>158.7</td>\n      <td>ohc</td>\n      <td>four</td>\n      <td>62</td>\n      <td>35</td>\n      <td>5348.0</td>\n    </tr>\n    <tr>\n      <th>49</th>\n      <td>67</td>\n      <td>toyota</td>\n      <td>hatchback</td>\n      <td>95.7</td>\n      <td>158.7</td>\n      <td>ohc</td>\n      <td>four</td>\n      <td>62</td>\n      <td>31</td>\n      <td>6338.0</td>\n    </tr>\n    <tr>\n      <th>50</th>\n      <td>68</td>\n      <td>toyota</td>\n      <td>hatchback</td>\n      <td>95.7</td>\n      <td>158.7</td>\n      <td>ohc</td>\n      <td>four</td>\n      <td>62</td>\n      <td>31</td>\n      <td>6488.0</td>\n    </tr>\n    <tr>\n      <th>51</th>\n      <td>69</td>\n      <td>toyota</td>\n      <td>wagon</td>\n      <td>95.7</td>\n      <td>169.7</td>\n      <td>ohc</td>\n      <td>four</td>\n      <td>62</td>\n      <td>31</td>\n      <td>6918.0</td>\n    </tr>\n    <tr>\n      <th>52</th>\n      <td>70</td>\n      <td>toyota</td>\n      <td>wagon</td>\n      <td>95.7</td>\n      <td>169.7</td>\n      <td>ohc</td>\n      <td>four</td>\n      <td>62</td>\n      <td>27</td>\n      <td>7898.0</td>\n    </tr>\n    <tr>\n      <th>53</th>\n      <td>71</td>\n      <td>toyota</td>\n      <td>wagon</td>\n      <td>95.7</td>\n      <td>169.7</td>\n      <td>ohc</td>\n      <td>four</td>\n      <td>62</td>\n      <td>27</td>\n      <td>8778.0</td>\n    </tr>\n    <tr>\n      <th>54</th>\n      <td>79</td>\n      <td>toyota</td>\n      <td>wagon</td>\n      <td>104.5</td>\n      <td>187.8</td>\n      <td>dohc</td>\n      <td>six</td>\n      <td>156</td>\n      <td>19</td>\n      <td>15750.0</td>\n    </tr>\n  </tbody>\n</table>\n</div>"
     },
     "metadata": {},
     "execution_count": 5
    }
   ],
   "source": [
    "df[df.company == 'toyota']"
   ]
  },
  {
   "cell_type": "markdown",
   "metadata": {},
   "source": [
    "Exercise 4"
   ]
  },
  {
   "cell_type": "code",
   "execution_count": 6,
   "metadata": {},
   "outputs": [
    {
     "output_type": "execute_result",
     "data": {
      "text/plain": "toyota           7\nbmw              6\nmazda            5\nnissan           5\nmercedes-benz    4\nvolkswagen       4\naudi             4\nmitsubishi       4\nisuzu            3\nchevrolet        3\njaguar           3\nalfa-romero      3\nhonda            3\nporsche          3\nvolvo            2\ndodge            2\nName: company, dtype: int64"
     },
     "metadata": {},
     "execution_count": 6
    }
   ],
   "source": [
    "df.company.value_counts()"
   ]
  },
  {
   "cell_type": "markdown",
   "metadata": {},
   "source": [
    "Exerise 5"
   ]
  },
  {
   "cell_type": "code",
   "execution_count": 7,
   "metadata": {},
   "outputs": [
    {
     "output_type": "execute_result",
     "data": {
      "text/plain": "company\nalfa-romero      16500.0\naudi             18920.0\nbmw              41315.0\nchevrolet         6575.0\ndodge             6377.0\nhonda            12945.0\nisuzu             6785.0\njaguar           36000.0\nmazda            18344.0\nmercedes-benz    45400.0\nmitsubishi        8189.0\nnissan           13499.0\nporsche          37028.0\ntoyota           15750.0\nvolkswagen        9995.0\nvolvo            13415.0\nName: price, dtype: float64"
     },
     "metadata": {},
     "execution_count": 7
    }
   ],
   "source": [
    "df.groupby('company')['price'].max()"
   ]
  },
  {
   "cell_type": "markdown",
   "metadata": {},
   "source": [
    "Exercise 6"
   ]
  },
  {
   "cell_type": "code",
   "execution_count": 8,
   "metadata": {},
   "outputs": [
    {
     "output_type": "execute_result",
     "data": {
      "text/plain": "company\nalfa-romero      20.333333\naudi             20.000000\nbmw              19.000000\nchevrolet        41.000000\ndodge            31.000000\nhonda            26.333333\nisuzu            33.333333\njaguar           14.333333\nmazda            28.000000\nmercedes-benz    18.000000\nmitsubishi       29.500000\nnissan           31.400000\nporsche          17.000000\ntoyota           28.714286\nvolkswagen       31.750000\nvolvo            23.000000\nName: average-mileage, dtype: float64"
     },
     "metadata": {},
     "execution_count": 8
    }
   ],
   "source": [
    "df.groupby('company')['average-mileage'].mean()"
   ]
  },
  {
   "cell_type": "markdown",
   "metadata": {},
   "source": [
    "Exercise 7"
   ]
  },
  {
   "cell_type": "code",
   "execution_count": 9,
   "metadata": {},
   "outputs": [
    {
     "output_type": "execute_result",
     "data": {
      "text/plain": "    index        company body-style  wheel-base  length engine-type  \\\n13     16      chevrolet  hatchback        88.4   141.1           l   \n27     36          mazda  hatchback        93.1   159.1         ohc   \n48     66         toyota  hatchback        95.7   158.7         ohc   \n36     49     mitsubishi  hatchback        93.7   157.3         ohc   \n28     37          mazda  hatchback        93.1   159.1         ohc   \n..    ...            ...        ...         ...     ...         ...   \n11     14            bmw      sedan       103.5   193.8         ohc   \n35     47  mercedes-benz    hardtop       112.0   199.2        ohcv   \n22     31          isuzu      sedan        94.5   155.9         ohc   \n23     32          isuzu      sedan        94.5   155.9         ohc   \n47     63        porsche  hatchback        98.4   175.7       dohcv   \n\n   num-of-cylinders  horsepower  average-mileage    price  \n13            three          48               47   5151.0  \n27             four          68               30   5195.0  \n48             four          62               35   5348.0  \n36             four          68               37   5389.0  \n28             four          68               31   6095.0  \n..              ...         ...              ...      ...  \n11              six         182               16  41315.0  \n35            eight         184               14  45400.0  \n22             four          70               38      NaN  \n23             four          70               38      NaN  \n47            eight         288               17      NaN  \n\n[61 rows x 10 columns]",
      "text/html": "<div>\n<style scoped>\n    .dataframe tbody tr th:only-of-type {\n        vertical-align: middle;\n    }\n\n    .dataframe tbody tr th {\n        vertical-align: top;\n    }\n\n    .dataframe thead th {\n        text-align: right;\n    }\n</style>\n<table border=\"1\" class=\"dataframe\">\n  <thead>\n    <tr style=\"text-align: right;\">\n      <th></th>\n      <th>index</th>\n      <th>company</th>\n      <th>body-style</th>\n      <th>wheel-base</th>\n      <th>length</th>\n      <th>engine-type</th>\n      <th>num-of-cylinders</th>\n      <th>horsepower</th>\n      <th>average-mileage</th>\n      <th>price</th>\n    </tr>\n  </thead>\n  <tbody>\n    <tr>\n      <th>13</th>\n      <td>16</td>\n      <td>chevrolet</td>\n      <td>hatchback</td>\n      <td>88.4</td>\n      <td>141.1</td>\n      <td>l</td>\n      <td>three</td>\n      <td>48</td>\n      <td>47</td>\n      <td>5151.0</td>\n    </tr>\n    <tr>\n      <th>27</th>\n      <td>36</td>\n      <td>mazda</td>\n      <td>hatchback</td>\n      <td>93.1</td>\n      <td>159.1</td>\n      <td>ohc</td>\n      <td>four</td>\n      <td>68</td>\n      <td>30</td>\n      <td>5195.0</td>\n    </tr>\n    <tr>\n      <th>48</th>\n      <td>66</td>\n      <td>toyota</td>\n      <td>hatchback</td>\n      <td>95.7</td>\n      <td>158.7</td>\n      <td>ohc</td>\n      <td>four</td>\n      <td>62</td>\n      <td>35</td>\n      <td>5348.0</td>\n    </tr>\n    <tr>\n      <th>36</th>\n      <td>49</td>\n      <td>mitsubishi</td>\n      <td>hatchback</td>\n      <td>93.7</td>\n      <td>157.3</td>\n      <td>ohc</td>\n      <td>four</td>\n      <td>68</td>\n      <td>37</td>\n      <td>5389.0</td>\n    </tr>\n    <tr>\n      <th>28</th>\n      <td>37</td>\n      <td>mazda</td>\n      <td>hatchback</td>\n      <td>93.1</td>\n      <td>159.1</td>\n      <td>ohc</td>\n      <td>four</td>\n      <td>68</td>\n      <td>31</td>\n      <td>6095.0</td>\n    </tr>\n    <tr>\n      <th>...</th>\n      <td>...</td>\n      <td>...</td>\n      <td>...</td>\n      <td>...</td>\n      <td>...</td>\n      <td>...</td>\n      <td>...</td>\n      <td>...</td>\n      <td>...</td>\n      <td>...</td>\n    </tr>\n    <tr>\n      <th>11</th>\n      <td>14</td>\n      <td>bmw</td>\n      <td>sedan</td>\n      <td>103.5</td>\n      <td>193.8</td>\n      <td>ohc</td>\n      <td>six</td>\n      <td>182</td>\n      <td>16</td>\n      <td>41315.0</td>\n    </tr>\n    <tr>\n      <th>35</th>\n      <td>47</td>\n      <td>mercedes-benz</td>\n      <td>hardtop</td>\n      <td>112.0</td>\n      <td>199.2</td>\n      <td>ohcv</td>\n      <td>eight</td>\n      <td>184</td>\n      <td>14</td>\n      <td>45400.0</td>\n    </tr>\n    <tr>\n      <th>22</th>\n      <td>31</td>\n      <td>isuzu</td>\n      <td>sedan</td>\n      <td>94.5</td>\n      <td>155.9</td>\n      <td>ohc</td>\n      <td>four</td>\n      <td>70</td>\n      <td>38</td>\n      <td>NaN</td>\n    </tr>\n    <tr>\n      <th>23</th>\n      <td>32</td>\n      <td>isuzu</td>\n      <td>sedan</td>\n      <td>94.5</td>\n      <td>155.9</td>\n      <td>ohc</td>\n      <td>four</td>\n      <td>70</td>\n      <td>38</td>\n      <td>NaN</td>\n    </tr>\n    <tr>\n      <th>47</th>\n      <td>63</td>\n      <td>porsche</td>\n      <td>hatchback</td>\n      <td>98.4</td>\n      <td>175.7</td>\n      <td>dohcv</td>\n      <td>eight</td>\n      <td>288</td>\n      <td>17</td>\n      <td>NaN</td>\n    </tr>\n  </tbody>\n</table>\n<p>61 rows × 10 columns</p>\n</div>"
     },
     "metadata": {},
     "execution_count": 9
    }
   ],
   "source": [
    "df.sort_values('price')"
   ]
  }
 ]
}