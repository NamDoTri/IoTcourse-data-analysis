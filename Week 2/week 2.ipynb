{
 "metadata": {
  "language_info": {
   "codemirror_mode": {
    "name": "ipython",
    "version": 3
   },
   "file_extension": ".py",
   "mimetype": "text/x-python",
   "name": "python",
   "nbconvert_exporter": "python",
   "pygments_lexer": "ipython3",
   "version": "3.7.4-final"
  },
  "orig_nbformat": 2,
  "kernelspec": {
   "name": "python3",
   "display_name": "Python 3"
  }
 },
 "nbformat": 4,
 "nbformat_minor": 2,
 "cells": [
  {
   "cell_type": "markdown",
   "metadata": {},
   "source": [
    "Exercise 1"
   ]
  },
  {
   "cell_type": "code",
   "execution_count": 1,
   "metadata": {
    "tags": []
   },
   "outputs": [
    {
     "output_type": "execute_result",
     "data": {
      "text/plain": "[8.8, 759.0, 143.0]"
     },
     "metadata": {},
     "execution_count": 1
    }
   ],
   "source": [
    "def kg_to_lb(kg):\n",
    "    lbs_per_kg = 2.2\n",
    "    return round(kg*lbs_per_kg, 2)\n",
    "\n",
    "weight_arr = [4,345,65] # test list of weights\n",
    "[kg_to_lb(weight) for weight in weight_arr]"
   ]
  },
  {
   "cell_type": "markdown",
   "metadata": {},
   "source": [
    "Exercise 2"
   ]
  },
  {
   "cell_type": "code",
   "execution_count": 2,
   "metadata": {},
   "outputs": [
    {
     "output_type": "execute_result",
     "data": {
      "text/plain": "22"
     },
     "metadata": {},
     "execution_count": 2
    }
   ],
   "source": [
    "def calc_sum(input_list):\n",
    "    try:\n",
    "        return sum(input_list)\n",
    "    except:\n",
    "        raise Exception(\"Invalid list\")\n",
    "\n",
    "test_list = [3,5,6,8]\n",
    "calc_sum(test_list)"
   ]
  },
  {
   "cell_type": "markdown",
   "metadata": {},
   "source": [
    "Exercise 3"
   ]
  },
  {
   "cell_type": "code",
   "execution_count": 3,
   "metadata": {
    "tags": []
   },
   "outputs": [
    {
     "output_type": "stream",
     "name": "stdout",
     "text": "False\n"
    }
   ],
   "source": [
    "def is_in_range(value, range):\n",
    "    if not type(range) is tuple or range[0] > range[1]:\n",
    "        raise Exception(\"Invalid range\")\n",
    "    return value >= range[0] and value <= range[1]\n",
    "\n",
    "print(is_in_range(4, (5,7)))"
   ]
  },
  {
   "cell_type": "markdown",
   "metadata": {},
   "source": [
    "Exercise 4"
   ]
  },
  {
   "cell_type": "code",
   "execution_count": 4,
   "metadata": {
    "tags": []
   },
   "outputs": [
    {
     "output_type": "stream",
     "name": "stdout",
     "text": "False\n"
    },
    {
     "output_type": "execute_result",
     "data": {
      "text/plain": "True"
     },
     "metadata": {},
     "execution_count": 4
    }
   ],
   "source": [
    "def is_prime(number):  \n",
    "    if (number <= 1): \n",
    "        return False\n",
    "    if (number <= 3): \n",
    "        return True\n",
    "  \n",
    "    if (number % 2 == 0 or number % 3 == 0): \n",
    "        return False\n",
    "  \n",
    "    i = 5\n",
    "    while(i**2 <= number) : \n",
    "        if (number % i == 0 or number % (i + 2) == 0): \n",
    "            return False\n",
    "        i = i + 6\n",
    "    return True\n",
    "\n",
    "print(is_prime(12))\n",
    "is_prime(19)"
   ]
  },
  {
   "cell_type": "markdown",
   "metadata": {},
   "source": [
    "Exercise 5"
   ]
  },
  {
   "cell_type": "code",
   "execution_count": 5,
   "metadata": {
    "tags": []
   },
   "outputs": [
    {
     "output_type": "stream",
     "name": "stdout",
     "text": "True\nFalse\n"
    }
   ],
   "source": [
    "def is_palindrome(s):\n",
    "    if not type(s) is str:\n",
    "        raise Exception(\"Invalid string\")\n",
    "    string = ''.join(s.split())\n",
    "    rev = ''.join(reversed(string))\n",
    "    return string == rev\n",
    "\n",
    "print(is_palindrome(\"taco cat\"))\n",
    "print(is_palindrome(\"as g\"))"
   ]
  }
 ]
}