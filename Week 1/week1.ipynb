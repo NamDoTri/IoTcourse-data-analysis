{
 "metadata": {
  "language_info": {
   "codemirror_mode": {
    "name": "ipython",
    "version": 3
   },
   "file_extension": ".py",
   "mimetype": "text/x-python",
   "name": "python",
   "nbconvert_exporter": "python",
   "pygments_lexer": "ipython3",
   "version": "3.7.4-final"
  },
  "orig_nbformat": 2,
  "kernelspec": {
   "name": "python3",
   "display_name": "Python 3"
  }
 },
 "nbformat": 4,
 "nbformat_minor": 2,
 "cells": [
  {
   "cell_type": "code",
   "execution_count": 1,
   "metadata": {},
   "outputs": [],
   "source": [
    "import numpy as np"
   ]
  },
  {
   "cell_type": "markdown",
   "metadata": {},
   "source": [
    "Exercise 1"
   ]
  },
  {
   "cell_type": "code",
   "execution_count": 2,
   "metadata": {
    "tags": []
   },
   "outputs": [
    {
     "output_type": "execute_result",
     "data": {
      "text/plain": "matrix([[10, 11, 12, 13],\n        [14, 15, 16, 17],\n        [18, 19, 20, 21]])"
     },
     "metadata": {},
     "execution_count": 2
    }
   ],
   "source": [
    "ex1 = np.matrix(np.reshape(np.arange(10,22), (3,4)))\n",
    "ex1"
   ]
  },
  {
   "cell_type": "markdown",
   "metadata": {},
   "source": [
    "Exercise 2"
   ]
  },
  {
   "cell_type": "code",
   "execution_count": 3,
   "metadata": {
    "tags": []
   },
   "outputs": [
    {
     "output_type": "stream",
     "name": "stdout",
     "text": "[  3   9   6  -5   1 -10   9   0   9  -9]\n"
    },
    {
     "output_type": "execute_result",
     "data": {
      "text/plain": "False"
     },
     "metadata": {},
     "execution_count": 3
    }
   ],
   "source": [
    "ex2_test_arr = np.random.randint(-10, 10, size = (10))\n",
    "def has_no_zeros(arr):\n",
    "    return not 0 in arr\n",
    "\n",
    "print(ex2_test_arr)\n",
    "has_no_zeros(ex2_test_arr)"
   ]
  },
  {
   "cell_type": "markdown",
   "metadata": {},
   "source": [
    "Exercise 3"
   ]
  },
  {
   "cell_type": "code",
   "execution_count": 4,
   "metadata": {
    "tags": []
   },
   "outputs": [
    {
     "output_type": "stream",
     "name": "stdout",
     "text": "Total size of elements: 16\nMemory occupied by the array object: 112\n"
    }
   ],
   "source": [
    "from sys import getsizeof\n",
    "ex3_arr = np.array([1, 7, 13, 105])\n",
    "print('Total size of elements: {}'.format(ex3_arr.nbytes))\n",
    "print('Memory occupied by the array object: {}'.format(getsizeof(ex3_arr)))"
   ]
  },
  {
   "cell_type": "markdown",
   "metadata": {},
   "source": [
    "Exercise 4"
   ]
  },
  {
   "cell_type": "code",
   "execution_count": 5,
   "metadata": {},
   "outputs": [
    {
     "output_type": "execute_result",
     "data": {
      "text/plain": "array([30, 31, 32, 33, 34, 35, 36, 37, 38, 39, 40, 41, 42, 43, 44, 45, 46,\n       47, 48, 49, 50, 51, 52, 53, 54, 55, 56, 57, 58, 59, 60, 61, 62, 63,\n       64, 65, 66, 67, 68, 69, 70])"
     },
     "metadata": {},
     "execution_count": 5
    }
   ],
   "source": [
    "ex4 = np.arange(30, 71)\n",
    "ex4"
   ]
  },
  {
   "cell_type": "markdown",
   "metadata": {},
   "source": [
    "Exercise 5\n"
   ]
  },
  {
   "cell_type": "code",
   "execution_count": 6,
   "metadata": {},
   "outputs": [
    {
     "output_type": "execute_result",
     "data": {
      "text/plain": "array([2, 4, 7, 3])"
     },
     "metadata": {},
     "execution_count": 6
    }
   ],
   "source": [
    "ex5 = np.array([3,7,4,2])\n",
    "ex5[::-1]"
   ]
  },
  {
   "cell_type": "markdown",
   "metadata": {},
   "source": [
    "Exercise 6"
   ]
  },
  {
   "cell_type": "code",
   "execution_count": 7,
   "metadata": {
    "tags": []
   },
   "outputs": [
    {
     "output_type": "stream",
     "name": "stdout",
     "text": "[ 3  5  6  9 10 12 15 18 20 21 24 25 27 30 33 35 36 39 40 42 45 48 50 51\n 54 55 57 60 63 65 66 69 70 72 75 78 80 81 84 85 87 90 93 95 96 99]\n"
    },
    {
     "output_type": "execute_result",
     "data": {
      "text/plain": "2318"
     },
     "metadata": {},
     "execution_count": 7
    }
   ],
   "source": [
    "ex6_arr = np.array([i for i in range(1,100) if i%3 == 0 or i%5 == 0])\n",
    "print(ex6_arr)\n",
    "np.sum(ex6_arr)"
   ]
  },
  {
   "cell_type": "markdown",
   "metadata": {},
   "source": [
    "Exercise 7"
   ]
  },
  {
   "cell_type": "code",
   "execution_count": 8,
   "metadata": {
    "tags": []
   },
   "outputs": [
    {
     "output_type": "stream",
     "name": "stdout",
     "text": "[[ 25  36  81]\n [441 324 729]]\n[[ 225 1089  576]\n [  16   49    1]]\n"
    }
   ],
   "source": [
    "arrayOne = np.array([[5, 6, 9], [21 ,18, 27]])\n",
    "arrayTwo = np.array([[15 ,33, 24], [4 ,7, 1]])\n",
    "print(arrayOne**2)\n",
    "print(arrayTwo**2)"
   ]
  },
  {
   "cell_type": "markdown",
   "metadata": {},
   "source": [
    "Exercise 8"
   ]
  },
  {
   "cell_type": "code",
   "execution_count": 9,
   "metadata": {},
   "outputs": [
    {
     "output_type": "execute_result",
     "data": {
      "text/plain": "array([[100, 110],\n       [120, 130],\n       [140, 150],\n       [160, 170],\n       [180, 190]])"
     },
     "metadata": {},
     "execution_count": 9
    }
   ],
   "source": [
    "ex8_arr = np.arange(100, 200, 10)\n",
    "result = np.reshape(ex8_arr, (5,2))\n",
    "result"
   ]
  },
  {
   "cell_type": "markdown",
   "metadata": {},
   "source": [
    "Exercise 9"
   ]
  },
  {
   "cell_type": "code",
   "execution_count": 10,
   "metadata": {
    "tags": []
   },
   "outputs": [
    {
     "output_type": "stream",
     "name": "stdout",
     "text": "[82 94 73]\n[34 12 53]\n"
    }
   ],
   "source": [
    "sampleArray = np.array([[34,43,73],[82,22,12],[53,94,66]])\n",
    "print(np.max(sampleArray, axis=0))\n",
    "print(np.min(sampleArray, axis=1))"
   ]
  },
  {
   "cell_type": "markdown",
   "metadata": {},
   "source": [
    "Exercise 10"
   ]
  },
  {
   "cell_type": "code",
   "execution_count": 11,
   "metadata": {
    "tags": []
   },
   "outputs": [
    {
     "output_type": "stream",
     "name": "stdout",
     "text": "[[ 6  5  9]\n [18 21 27]]\n[[ 4  7  1]\n [15 33 24]]\n"
    },
    {
     "output_type": "execute_result",
     "data": {
      "text/plain": "array([[34, 43, 73],\n       [12, 22, 82],\n       [53, 66, 94]])"
     },
     "metadata": {},
     "execution_count": 11
    }
   ],
   "source": [
    "sampleArray = np.array([[34,43,73],[82,22,12],[53,94,66]])\n",
    "\n",
    "print(arrayOne[:, arrayOne[1].argsort()])\n",
    "print(arrayTwo[arrayTwo[:,1].argsort(),:])\n",
    "np.sort(sampleArray)"
   ]
  }
 ]
}